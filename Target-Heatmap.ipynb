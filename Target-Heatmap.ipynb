{
 "cells": [
  {
   "cell_type": "code",
   "execution_count": 1,
   "id": "a79dc602",
   "metadata": {},
   "outputs": [],
   "source": [
    "import pandas as pd\n",
    "import numpy as np\n",
    "import seaborn as sns\n",
    "import matplotlib.pyplot as plt"
   ]
  },
  {
   "cell_type": "code",
   "execution_count": 2,
   "id": "84e820ae",
   "metadata": {},
   "outputs": [
    {
     "name": "stdout",
     "output_type": "stream",
     "text": [
      "filename: kurog-hpriest1\n"
     ]
    }
   ],
   "source": [
    "filename = input(\"filename: \")"
   ]
  },
  {
   "cell_type": "code",
   "execution_count": 3,
   "id": "3774c7b6",
   "metadata": {},
   "outputs": [],
   "source": [
    "cast_data = pd.read_excel(\"data//\" + filename + \".xlsx\",\n",
    "                           sheet_name=\"casts\")\n",
    "frame_data = pd.read_excel(\"data//\" + filename + \".xlsx\",\n",
    "                           sheet_name=\"raidframes\",\n",
    "                           header=None)"
   ]
  },
  {
   "cell_type": "code",
   "execution_count": 4,
   "id": "3d87932c",
   "metadata": {},
   "outputs": [],
   "source": [
    "#raidframes already processed in excel to replace special characters\n",
    "#raidframe convert to 2d array for index\n",
    "frame_data_arr = frame_data.to_numpy()\n",
    "#raidframe convert to flat list for cleaning cast_data\n",
    "frame_data_list = frame_data_arr.flatten()"
   ]
  },
  {
   "cell_type": "code",
   "execution_count": 5,
   "id": "cd9f31ed",
   "metadata": {},
   "outputs": [],
   "source": [
    "#remove rows where target is not a raider\n",
    "cast_data = cast_data[cast_data[\"Target\"].isin(frame_data_list)]"
   ]
  },
  {
   "cell_type": "code",
   "execution_count": 6,
   "id": "68fe7bde",
   "metadata": {},
   "outputs": [],
   "source": [
    "#count number of times target appears (represents number of times a direct heal was cast on target)\n",
    "target_count = cast_data.Target.value_counts().rename_axis(\"Target\").reset_index(name=\"Count\")"
   ]
  },
  {
   "cell_type": "code",
   "execution_count": 7,
   "id": "179b2a0b",
   "metadata": {},
   "outputs": [],
   "source": [
    "#create dataframe of raiders and their correspeonding positions on the raidframes [row,column]\n",
    "frame_indexes = {i:list(np.where(frame_data_arr == i)) for i in frame_data_list}\n",
    "frame_coords = {i:[-int(j[0]),int(j[1])] for i,j in frame_indexes.items()}\n",
    "frame_df = pd.Series(frame_coords, name=\"Coordinates\")\n",
    "frame_df = frame_df.rename_axis(\"Target\").reset_index(name=\"Coordinates\")\n",
    "frame_df[[\"x\",\"y\"]] = pd.DataFrame(frame_df[\"Coordinates\"].tolist(), index=frame_df.index)"
   ]
  },
  {
   "cell_type": "code",
   "execution_count": 8,
   "id": "3a972c1f",
   "metadata": {},
   "outputs": [],
   "source": [
    "#merge target_counts and main_data then duplicate rows based on target_counts\n",
    "main_data = pd.merge(frame_df, target_count, on=\"Target\")\n",
    "main_data = main_data.loc[main_data.index.repeat(main_data[\"Count\"])]\n",
    "main_data = main_data.drop(columns=[\"Target\",\"Coordinates\",\"Count\"]).rename(columns={\"x\":\"y\", \"y\":\"x\"}).reset_index()"
   ]
  },
  {
   "cell_type": "code",
   "execution_count": 9,
   "id": "b3acd4e7",
   "metadata": {},
   "outputs": [
    {
     "data": {
      "text/plain": [
       "[Text(0.5, 1.0, 'kurog-hpriest1')]"
      ]
     },
     "execution_count": 9,
     "metadata": {},
     "output_type": "execute_result"
    },
    {
     "data": {
      "image/png": "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\n",
      "text/plain": [
       "<Figure size 432x288 with 2 Axes>"
      ]
     },
     "metadata": {
      "needs_background": "light"
     },
     "output_type": "display_data"
    }
   ],
   "source": [
    "#plot\n",
    "sns.histplot(main_data, x=\"x\", y=\"y\", bins=(5,4), cbar=True).set(title=filename)",
    "plt.savefig(filename + ".png")
   ]
  }
 ],
 "metadata": {
  "kernelspec": {
   "display_name": "Python 3 (ipykernel)",
   "language": "python",
   "name": "python3"
  },
  "language_info": {
   "codemirror_mode": {
    "name": "ipython",
    "version": 3
   },
   "file_extension": ".py",
   "mimetype": "text/x-python",
   "name": "python",
   "nbconvert_exporter": "python",
   "pygments_lexer": "ipython3",
   "version": "3.9.12"
  }
 },
 "nbformat": 4,
 "nbformat_minor": 5
}
