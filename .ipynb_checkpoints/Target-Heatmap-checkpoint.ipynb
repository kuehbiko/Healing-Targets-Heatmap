{
 "cells": [
  {
   "cell_type": "code",
   "execution_count": 1,
   "id": "a79dc602",
   "metadata": {},
   "outputs": [],
   "source": [
    "import pandas as pd\n",
    "import numpy as np\n",
    "import seaborn as sns\n",
    "import matplotlib.pyplot as plt"
   ]
  },
  {
   "cell_type": "code",
   "execution_count": 2,
   "id": "84e820ae",
   "metadata": {},
   "outputs": [
    {
     "name": "stdout",
     "output_type": "stream",
     "text": [
      "filename: kurog-hpriest-12032023\n"
     ]
    }
   ],
   "source": [
    "filename = input(\"filename: \")"
   ]
  },
  {
   "cell_type": "code",
   "execution_count": 3,
   "id": "3774c7b6",
   "metadata": {},
   "outputs": [],
   "source": [
    "cast_data = pd.read_excel(\"data//\" + filename + \".xlsx\",\n",
    "                           sheet_name=\"casts\")\n",
    "frame_data = pd.read_excel(\"data//\" + filename + \".xlsx\",\n",
    "                           sheet_name=\"raidframes\",\n",
    "                           header=None)"
   ]
  },
  {
   "cell_type": "code",
   "execution_count": 4,
   "id": "3d87932c",
   "metadata": {},
   "outputs": [],
   "source": [
    "#raidframes already processed in excel to replace special characters\n",
    "#raidframe convert to 2d array for index\n",
    "frame_data_arr = frame_data.to_numpy()\n",
    "#raidframe convert to flat list for cleaning cast_data\n",
    "frame_data_list = frame_data_arr.flatten()"
   ]
  },
  {
   "cell_type": "code",
   "execution_count": 5,
   "id": "cd9f31ed",
   "metadata": {},
   "outputs": [],
   "source": [
    "#remove rows where target is not a raider\n",
    "cast_data = cast_data[cast_data[\"Target\"].isin(frame_data_list)]"
   ]
  },
  {
   "cell_type": "code",
   "execution_count": 6,
   "id": "68fe7bde",
   "metadata": {},
   "outputs": [],
   "source": [
    "#count number of times target appears (represents number of times a direct heal was cast on target)\n",
    "target_count = cast_data.Target.value_counts().rename_axis(\"Target\").reset_index(name=\"Count\")"
   ]
  },
  {
   "cell_type": "code",
   "execution_count": 7,
   "id": "179b2a0b",
   "metadata": {},
   "outputs": [],
   "source": [
    "#create dataframe of raiders and their correspeonding positions on the raidframes [row,column]\n",
    "frame_indexes = {i:list(np.where(frame_data_arr == i)) for i in frame_data_list}\n",
    "frame_coords = {i:[-int(j[0]),int(j[1])] for i,j in frame_indexes.items()}\n",
    "frame_df = pd.Series(frame_coords, name=\"Coordinates\")\n",
    "frame_df = frame_df.rename_axis(\"Target\").reset_index(name=\"Coordinates\")\n",
    "frame_df[[\"x\",\"y\"]] = pd.DataFrame(frame_df[\"Coordinates\"].tolist(), index=frame_df.index)"
   ]
  },
  {
   "cell_type": "code",
   "execution_count": 8,
   "id": "3a972c1f",
   "metadata": {},
   "outputs": [],
   "source": [
    "#merge target_counts and main_data then duplicate rows based on target_counts\n",
    "main_data = pd.merge(frame_df, target_count, on=\"Target\")\n",
    "main_data = main_data.loc[main_data.index.repeat(main_data[\"Count\"])]\n",
    "main_data = main_data.drop(columns=[\"Target\",\"Coordinates\",\"Count\"]).rename(columns={\"x\":\"y\", \"y\":\"x\"}).reset_index()"
   ]
  },
  {
   "cell_type": "code",
   "execution_count": 9,
   "id": "b3acd4e7",
   "metadata": {},
   "outputs": [
    {
     "data": {
      "image/png": "[encoded data removed]",
      "text/plain": [
       "<Figure size 432x288 with 2 Axes>"
      ]
     },
     "metadata": {
      "needs_background": "light"
     },
     "output_type": "display_data"
    }
   ],
   "source": [
    "#plot\n",
    "sns.histplot(main_data, x=\"x\", y=\"y\", bins=(5,4), cbar=True).set(title=filename)\n",
    "plt.savefig(\"plots/\" + filename + \".png\")"
   ]
  }
 ],
 "metadata": {
  "kernelspec": {
   "display_name": "Python 3 (ipykernel)",
   "language": "python",
   "name": "python3"
  },
  "language_info": {
   "codemirror_mode": {
    "name": "ipython",
    "version": 3
   },
   "file_extension": ".py",
   "mimetype": "text/x-python",
   "name": "python",
   "nbconvert_exporter": "python",
   "pygments_lexer": "ipython3",
   "version": "3.9.12"
  }
 },
 "nbformat": 4,
 "nbformat_minor": 5
}
